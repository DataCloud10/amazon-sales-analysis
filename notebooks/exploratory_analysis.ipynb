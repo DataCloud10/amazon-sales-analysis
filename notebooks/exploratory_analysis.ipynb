{
 "cells": [
  {
   "cell_type": "markdown",
   "metadata": {},
   "source": [
    "# Analisi Esplorativa Dataset Amazon Sales\n",
    "\n",
    "Questo notebook contiene l'analisi esplorativa iniziale del dataset Amazon Sales"
   ]
  },
  {
   "cell_type": "code",
   "execution_count": null,
   "metadata": {},
   "outputs": [],
   "source": [
    "import pandas as pd\n",
    "import numpy as np\n",
    "import matplotlib.pyplot as plt\n",
    "import seaborn as sns\n",
    "\n",
    "# Impostazioni di visualizzazione\n",
    "plt.style.use('default')\n",
    "sns.set_theme()\n",
    "pd.set_option('display.max_columns', None)"
   ]
  },
  {
   "cell_type": "markdown",
   "metadata": {},
   "source": [
    "## Caricamento e Pulizia Dati"
   ]
  },
  {
   "cell_type": "code",
   "execution_count": null,
   "metadata": {},
   "outputs": [],
   "source": [
    "# Carica il dataset\n",
    "df = pd.read_csv('../data/amazon_sales.csv')\n",
    "df.head()"
   ]
  },
  {
   "cell_type": "markdown",
   "metadata": {},
   "source": [
    "## Analisi Statistiche Base"
   ]
  },
  {
   "cell_type": "code",
   "execution_count": null,
   "metadata": {},
   "outputs": [],
   "source": [
    "# Statistiche descrittive\n",
    "print(\"\\nStatistiche Dataset:\")\n",
    "print(f\"Numero totale prodotti: {len(df):,}\")\n",
    "print(f\"Numero categorie uniche: {df['category'].nunique():,}\")\n",
    "\n",
    "# Analisi prezzi\n",
    "print(\"\\nAnalisi Prezzi (EUR):\")\n",
    "print(df['actual_price_eur'].describe())\n",
    "\n",
    "# Analisi rating\n",
    "print(\"\\nAnalisi Rating:\")\n",
    "print(df['rating'].describe())"
   ]
  },
  {
   "cell_type": "markdown",
   "metadata": {},
   "source": [
    "## Insights Principali\n",
    "\n",
    "1. **Distribuzione Prezzi**\n",
    "   - Range prezzi molto ampio\n",
    "   - Distribuzione asimmetrica (log-normal)\n",
    "   - Presenza di alcuni outlier significativi\n",
    "\n",
    "2. **Pattern Rating**\n",
    "   - Rating medi generalmente alti\n",
    "   - Pochi prodotti con rating molto bassi\n",
    "   - Distribuzione non uniforme delle recensioni\n",
    "\n",
    "3. **Strategie di Sconto**\n",
    "   - Sconti significativi in tutte le categorie\n",
    "   - Alcune categorie mostrano sconti consistentemente più alti\n",
    "   - Pattern stagionali negli sconti"
   ]
  }
 ],
 "metadata": {
  "language_info": {
   "name": "python"
  }
 },
 "nbformat": 4,
 "nbformat_minor": 2
}
